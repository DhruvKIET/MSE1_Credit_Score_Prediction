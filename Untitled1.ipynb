{
  "nbformat": 4,
  "nbformat_minor": 0,
  "metadata": {
    "colab": {
      "provenance": []
    },
    "kernelspec": {
      "name": "python3",
      "display_name": "Python 3"
    },
    "language_info": {
      "name": "python"
    }
  },
  "cells": [
    {
      "cell_type": "code",
      "execution_count": null,
      "metadata": {
        "colab": {
          "base_uri": "https://localhost:8080/"
        },
        "id": "qp5l-cYTgej_",
        "outputId": "7ed657c9-8da2-4b11-cd2f-86bf9a52b630"
      },
      "outputs": [
        {
          "output_type": "stream",
          "name": "stdout",
          "text": [
            "Mounted at /content/drive\n"
          ]
        }
      ],
      "source": [
        "import pandas as pd\n",
        "from sklearn.model_selection import train_test_split\n",
        "from sklearn.linear_model import LinearRegression\n",
        "from sklearn.metrics import mean_squared_error, r2_score\n",
        "\n",
        "# Load data\n",
        "file_path = 'credit_data.csv'\n",
        "data = pd.read_csv(file_path)\n",
        "\n",
        "# Features and target variable\n",
        "X = data[['Age', 'Income', 'LoanAmount']]\n",
        "y = data['CreditScore']\n",
        "\n",
        "# Split data into training and testing sets\n",
        "X_train, X_test, y_train, y_test = train_test_split(X, y, test_size=0.3, random_state=42)\n",
        "\n",
        "# Initialize and train the model\n",
        "model = LinearRegression()\n",
        "model.fit(X_train, y_train)\n",
        "\n",
        "# Make predictions\n",
        "y_pred = model.predict(X_test)\n",
        "\n",
        "# Evaluate the model\n",
        "mse = mean_squared_error(y_test, y_pred)\n",
        "r2 = r2_score(y_test, y_pred)\n",
        "\n",
        "# Display results\n",
        "print(\"Mean Squared Error:\", mse)\n",
        "print(\"R-squared:\", r2)\n",
        "\n",
        "# Predict function\n",
        "def predict_credit_score(age, income, loan_amount):\n",
        "    prediction = model.predict([[age, income, loan_amount]])\n",
        "    return prediction[0]\n",
        "\n",
        "# Example prediction\n",
        "\n",
        "\n",
        "\n",
        "#Taking user input for prediction\n",
        "ag = int(input(\"Enter Your Age\"))\n",
        "inc = int(input(\"Enter Your Income\"))\n",
        "lamt = int(input(\"Enter Your Loan Amount\"))\n",
        "credit_prediction = predict_credit_score(ag, inc, lamt)\n",
        "print(\"Predicted Credit Score:\", credit_prediction)"
      ]
    },
    {
      "cell_type": "code",
      "source": [],
      "metadata": {
        "colab": {
          "base_uri": "https://localhost:8080/"
        },
        "id": "vkoR9wJpiX16",
        "outputId": "9a651246-bb02-472f-f01f-653d16e1ea9e"
      },
      "execution_count": null,
      "outputs": [
        {
          "output_type": "stream",
          "name": "stdout",
          "text": [
            "/content\n",
            "drive  sample_data\n"
          ]
        }
      ]
    },
    {
      "cell_type": "code",
      "source": [],
      "metadata": {
        "colab": {
          "base_uri": "https://localhost:8080/",
          "height": 263
        },
        "id": "Hit8sU5ShB0o",
        "outputId": "57cb2317-e296-4264-db02-05250a5591f8"
      },
      "execution_count": null,
      "outputs": [
        {
          "output_type": "stream",
          "name": "stdout",
          "text": [
            "Error: 'your_dataset.csv' not found. Please upload your dataset file.\n"
          ]
        },
        {
          "output_type": "error",
          "ename": "NameError",
          "evalue": "name 'data' is not defined",
          "traceback": [
            "\u001b[0;31m---------------------------------------------------------------------------\u001b[0m",
            "\u001b[0;31mNameError\u001b[0m                                 Traceback (most recent call last)",
            "\u001b[0;32m<ipython-input-2-39836cd7c0c1>\u001b[0m in \u001b[0;36m<cell line: 0>\u001b[0;34m()\u001b[0m\n\u001b[1;32m     18\u001b[0m \u001b[0mnumerical_features\u001b[0m \u001b[0;34m=\u001b[0m \u001b[0;34m[\u001b[0m\u001b[0;34m'Annual_Income'\u001b[0m\u001b[0;34m,\u001b[0m \u001b[0;34m'Monthly_Inhand_Salary'\u001b[0m\u001b[0;34m,\u001b[0m \u001b[0;34m'Num_Bank_Accounts'\u001b[0m\u001b[0;34m,\u001b[0m \u001b[0;34m'Num_Credit_Card'\u001b[0m\u001b[0;34m,\u001b[0m \u001b[0;34m'Interest_Rate'\u001b[0m\u001b[0;34m,\u001b[0m \u001b[0;34m'Num_of_Loan'\u001b[0m\u001b[0;34m,\u001b[0m \u001b[0;34m'Delay_from_due_date'\u001b[0m\u001b[0;34m,\u001b[0m \u001b[0;34m'Num_of_Delayed_Payment'\u001b[0m\u001b[0;34m,\u001b[0m \u001b[0;34m'Changed_Credit_Limit'\u001b[0m\u001b[0;34m,\u001b[0m \u001b[0;34m'Outstanding_Debt'\u001b[0m\u001b[0;34m,\u001b[0m \u001b[0;34m'Credit_Utilization_Ratio'\u001b[0m\u001b[0;34m,\u001b[0m \u001b[0;34m'Credit_History_Age'\u001b[0m\u001b[0;34m,\u001b[0m \u001b[0;34m'Total_EMI_per_month'\u001b[0m\u001b[0;34m,\u001b[0m \u001b[0;34m'Amount_invested_monthly'\u001b[0m\u001b[0;34m,\u001b[0m \u001b[0;34m'Monthly_Balance'\u001b[0m\u001b[0;34m]\u001b[0m \u001b[0;31m# Example numerical features, replace with your actual features\u001b[0m\u001b[0;34m\u001b[0m\u001b[0;34m\u001b[0m\u001b[0m\n\u001b[1;32m     19\u001b[0m \u001b[0;32mfor\u001b[0m \u001b[0mfeature\u001b[0m \u001b[0;32min\u001b[0m \u001b[0mnumerical_features\u001b[0m\u001b[0;34m:\u001b[0m\u001b[0;34m\u001b[0m\u001b[0;34m\u001b[0m\u001b[0m\n\u001b[0;32m---> 20\u001b[0;31m   \u001b[0;32mif\u001b[0m \u001b[0mfeature\u001b[0m \u001b[0;32min\u001b[0m \u001b[0mdata\u001b[0m\u001b[0;34m.\u001b[0m\u001b[0mcolumns\u001b[0m\u001b[0;34m:\u001b[0m  \u001b[0;31m#check if the column is in the dataframe to prevent KeyError\u001b[0m\u001b[0;34m\u001b[0m\u001b[0;34m\u001b[0m\u001b[0m\n\u001b[0m\u001b[1;32m     21\u001b[0m     \u001b[0mdata\u001b[0m\u001b[0;34m[\u001b[0m\u001b[0mfeature\u001b[0m\u001b[0;34m]\u001b[0m\u001b[0;34m.\u001b[0m\u001b[0mfillna\u001b[0m\u001b[0;34m(\u001b[0m\u001b[0mdata\u001b[0m\u001b[0;34m[\u001b[0m\u001b[0mfeature\u001b[0m\u001b[0;34m]\u001b[0m\u001b[0;34m.\u001b[0m\u001b[0mmean\u001b[0m\u001b[0;34m(\u001b[0m\u001b[0;34m)\u001b[0m\u001b[0;34m,\u001b[0m \u001b[0minplace\u001b[0m\u001b[0;34m=\u001b[0m\u001b[0;32mTrue\u001b[0m\u001b[0;34m)\u001b[0m \u001b[0;31m# Fill missing values with mean\u001b[0m\u001b[0;34m\u001b[0m\u001b[0;34m\u001b[0m\u001b[0m\n\u001b[1;32m     22\u001b[0m \u001b[0;31m# For categorical features (if any), handle missing values accordingly\u001b[0m\u001b[0;34m\u001b[0m\u001b[0;34m\u001b[0m\u001b[0m\n",
            "\u001b[0;31mNameError\u001b[0m: name 'data' is not defined"
          ]
        }
      ]
    },
    {
      "cell_type": "code",
      "source": [],
      "metadata": {
        "id": "f-NRTn4Aig6N"
      },
      "execution_count": null,
      "outputs": []
    }
  ]
}