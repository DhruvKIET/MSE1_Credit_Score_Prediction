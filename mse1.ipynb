{
  "nbformat": 4,
  "nbformat_minor": 0,
  "metadata": {
    "colab": {
      "provenance": []
    },
    "kernelspec": {
      "name": "python3",
      "display_name": "Python 3"
    },
    "language_info": {
      "name": "python"
    }
  },
  "cells": [
    {
      "cell_type": "code",
      "execution_count": null,
      "metadata": {
        "colab": {
          "base_uri": "https://localhost:8080/"
        },
        "id": "qp5l-cYTgej_",
        "outputId": "7ed657c9-8da2-4b11-cd2f-86bf9a52b630"
      },
      "outputs": [
        {
          "output_type": "stream",
          "name": "stdout",
          "text": [
            "Mounted at /content/drive\n"
          ]
        }
      ],
      "source": [
        "import pandas as pd\n",
        "from sklearn.model_selection import train_test_split\n",
        "from sklearn.linear_model import LinearRegression\n",
        "from sklearn.metrics import mean_squared_error, r2_score\n",
        "\n",
        "# Load data\n",
        "file_path = 'credit_data.csv'\n",
        "data = pd.read_csv(file_path)\n",
        "\n",
        "# Features and target variable\n",
        "X = data[['Age', 'Income', 'LoanAmount']]\n",
        "y = data['CreditScore']\n",
        "\n",
        "# Split data into training and testing sets\n",
        "X_train, X_test, y_train, y_test = train_test_split(X, y, test_size=0.3, random_state=42)\n",
        "\n",
        "# Initialize and train the model\n",
        "model = LinearRegression()\n",
        "model.fit(X_train, y_train)\n",
        "\n",
        "# Make predictions\n",
        "y_pred = model.predict(X_test)\n",
        "\n",
        "# Evaluate the model\n",
        "mse = mean_squared_error(y_test, y_pred)\n",
        "r2 = r2_score(y_test, y_pred)\n",
        "\n",
        "# Display results\n",
        "print(\"Mean Squared Error:\", mse)\n",
        "print(\"R-squared:\", r2)\n",
        "\n",
        "# Predict function\n",
        "def predict_credit_score(age, income, loan_amount):\n",
        "    prediction = model.predict([[age, income, loan_amount]])\n",
        "    return prediction[0]\n",
        "\n",
        "# Example prediction\n",
        "\n",
        "\n",
        "\n",
        "#Taking user input for prediction\n",
        "ag = int(input(\"Enter Your Age\"))\n",
        "inc = int(input(\"Enter Your Income\"))\n",
        "lamt = int(input(\"Enter Your Loan Amount\"))\n",
        "credit_prediction = predict_credit_score(ag, inc, lamt)\n",
        "print(\"Predicted Credit Score:\", credit_prediction)"
      ]
    },
    {
      "cell_type": "code",
      "source": [],
      "metadata": {
        "colab": {
          "base_uri": "https://localhost:8080/"
        },
        "id": "vkoR9wJpiX16",
        "outputId": "9a651246-bb02-472f-f01f-653d16e1ea9e"
      },
      "execution_count": null,
      "outputs": [
        {
          "output_type": "stream",
          "name": "stdout",
          "text": [
            "/content\n",
            "drive  sample_data\n"
          ]
        }
      ]
    },
    {
      "cell_type": "code",
      "source": [],
      "metadata": {
        "id": "f-NRTn4Aig6N"
      },
      "execution_count": null,
      "outputs": []
    }
  ]
}